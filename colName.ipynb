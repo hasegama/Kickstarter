{
 "cells": [
  {
   "cell_type": "markdown",
   "metadata": {},
   "source": [
    "- ID \n",
    "    - internal kickstarter id\n",
    "\n",
    "- name \n",
    "    - name of project\n",
    "        - A project is a finite work with a clear goal that you’d like to bring to life. Think albums, books, or films. \n",
    "\n",
    "- category\n",
    "    - category\n",
    "\n",
    "- main_category\n",
    "    - category of campaign\n",
    "\n",
    "- currency\n",
    "    - currency used to support\n",
    "    - サポートに使用されていた通貨\n",
    "\n",
    "- deadline\n",
    "    - deadline for crowdfunding\n",
    "\n",
    "- goal \n",
    "    - fundraising goal 募金目標\n",
    "        - The funding goal is the amount of money that a creator needs to complete their project. \n",
    "\n",
    "- launched\n",
    "    - date launched\n",
    "\n",
    "- pledged　誓約\n",
    "    - amount pledged by \"crowd\" \"crowd\"によって約束された金額\n",
    "\n",
    "- state\n",
    "    - Current condition the project is in \n",
    "\n",
    "- backers　後援者の数\n",
    "    - number of backers\n",
    "\n",
    "- country\n",
    "    - country pledged from\n",
    "\n",
    "- usd pledged\n",
    "    - amount of money pledged\n",
    "\n",
    "\n",
    "\n",
    "Goal amount in USD \n",
    "\n"
   ]
  },
  {
   "cell_type": "code",
   "execution_count": null,
   "metadata": {},
   "outputs": [],
   "source": []
  }
 ],
 "metadata": {
  "kernelspec": {
   "display_name": "Python 3",
   "language": "python",
   "name": "python3"
  },
  "language_info": {
   "codemirror_mode": {
    "name": "ipython",
    "version": 3
   },
   "file_extension": ".py",
   "mimetype": "text/x-python",
   "name": "python",
   "nbconvert_exporter": "python",
   "pygments_lexer": "ipython3",
   "version": "3.7.3"
  }
 },
 "nbformat": 4,
 "nbformat_minor": 2
}
