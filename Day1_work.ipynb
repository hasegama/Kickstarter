{
 "cells": [
  {
   "cell_type": "markdown",
   "metadata": {},
   "source": [
    "## DAY1 宿題\n",
    "- Kickstarter Projectsの分類"
   ]
  },
  {
   "cell_type": "code",
   "execution_count": 1,
   "metadata": {},
   "outputs": [],
   "source": [
    "%matplotlib inline\n",
    "import pandas as pd\n",
    "import numpy as np\n",
    "\n",
    "# 4_linear_regression_multi_real_data\n",
    "import seaborn as sns\n",
    "import matplotlib.pyplot as plt\n",
    "from mpl_toolkits.mplot3d import Axes3D\n",
    "\n",
    "# 6_logistic_regression_real_data\n",
    "from sklearn.linear_model import SGDClassifier\n",
    "from sklearn.metrics import log_loss, accuracy_score, confusion_matrix"
   ]
  },
  {
   "cell_type": "code",
   "execution_count": 2,
   "metadata": {},
   "outputs": [],
   "source": [
    "# https://qiita.com/Sasagawa0185/items/1185933dd0e560a26b07\n",
    "import datetime\n",
    "\n",
    "# 与えられた文字列型の時刻をdatetime型へ変換する関数\n",
    "def str2datetime(t, format):\n",
    "    return datetime.datetime.strptime(t, format)\n",
    "\n",
    "def deltaDay(t):\n",
    "    t1, t2 = t\n",
    "    delta = t2 - t1\n",
    "    return delta.total_seconds()/(60*60*24) #差を秒に直したものを一日当たりの秒数でわったものを出力します。"
   ]
  },
  {
   "cell_type": "markdown",
   "metadata": {},
   "source": [
    "### 1. データの読み込み"
   ]
  },
  {
   "cell_type": "code",
   "execution_count": 3,
   "metadata": {},
   "outputs": [],
   "source": [
    "# df_house = pd.read_csv(\"../1_data/kc_house_data.csv\")[['yr_renovated', 'sqft_living', 'sqft_lot', 'sqft_above', 'yr_built', 'sqft_living15', 'sqft_lot15']]\n",
    "# df_house['yr_renovated'] = df_house['yr_renovated'] > 0 \n",
    "\n",
    "df_house = pd.read_csv(\"kickstarter-projects/ks-projects-201801.csv\", index_col=0)\n",
    "continuousCols = [\"launched\", \"deadline\", \"goal\"]\n",
    "quantizedCols = [\"category\", \"main_category\", \"currency\", \"country\"]\n",
    "uniqueCols = [\"name\"]\n",
    "unavailableCols = [\"pledged\", \"backers\", \"usd pledged\", \"usd_pledged_real\", \"usd_goal_real\"]\n",
    "\n",
    "df_house.launched\n",
    "df_house.launched = df_house.launched.apply(str2datetime, format='%Y-%m-%d %H:%M:%S')\n",
    "df_house.deadline = df_house.deadline.apply(str2datetime, format='%Y-%m-%d')\n",
    "df_house[\"deltaDay\"] = df_house[[\"launched\", \"deadline\"]].apply(deltaDay, axis=1)\n",
    "\n",
    "states = [\"successful\", \"failed\", \"canceled\"]\n",
    "df_house[\"stateValue\"] = (states[0] == df_house[\"state\"]).astype(float)"
   ]
  },
  {
   "cell_type": "code",
   "execution_count": 4,
   "metadata": {},
   "outputs": [],
   "source": [
    "def normalize(df):\n",
    "    return (df - df.min())/(df.max()-df.min())\n",
    "requiredCols = [\"goal\", \"deltaDay\", \"stateValue\"]\n",
    "df_required = df_house[requiredCols].apply(normalize)"
   ]
  },
  {
   "cell_type": "markdown",
   "metadata": {},
   "source": [
    "### 2. データ統計量の確認"
   ]
  },
  {
   "cell_type": "code",
   "execution_count": 5,
   "metadata": {},
   "outputs": [
    {
     "data": {
      "text/html": [
       "<div>\n",
       "<style scoped>\n",
       "    .dataframe tbody tr th:only-of-type {\n",
       "        vertical-align: middle;\n",
       "    }\n",
       "\n",
       "    .dataframe tbody tr th {\n",
       "        vertical-align: top;\n",
       "    }\n",
       "\n",
       "    .dataframe thead th {\n",
       "        text-align: right;\n",
       "    }\n",
       "</style>\n",
       "<table border=\"1\" class=\"dataframe\">\n",
       "  <thead>\n",
       "    <tr style=\"text-align: right;\">\n",
       "      <th></th>\n",
       "      <th>goal</th>\n",
       "      <th>deltaDay</th>\n",
       "      <th>stateValue</th>\n",
       "    </tr>\n",
       "  </thead>\n",
       "  <tbody>\n",
       "    <tr>\n",
       "      <th>count</th>\n",
       "      <td>378661.000000</td>\n",
       "      <td>378661.000000</td>\n",
       "      <td>378661.000000</td>\n",
       "    </tr>\n",
       "    <tr>\n",
       "      <th>mean</th>\n",
       "      <td>0.000491</td>\n",
       "      <td>0.002026</td>\n",
       "      <td>0.353762</td>\n",
       "    </tr>\n",
       "    <tr>\n",
       "      <th>std</th>\n",
       "      <td>0.011834</td>\n",
       "      <td>0.003938</td>\n",
       "      <td>0.478137</td>\n",
       "    </tr>\n",
       "    <tr>\n",
       "      <th>min</th>\n",
       "      <td>0.000000</td>\n",
       "      <td>0.000000</td>\n",
       "      <td>0.000000</td>\n",
       "    </tr>\n",
       "    <tr>\n",
       "      <th>25%</th>\n",
       "      <td>0.000020</td>\n",
       "      <td>0.001738</td>\n",
       "      <td>0.000000</td>\n",
       "    </tr>\n",
       "    <tr>\n",
       "      <th>50%</th>\n",
       "      <td>0.000052</td>\n",
       "      <td>0.001773</td>\n",
       "      <td>0.000000</td>\n",
       "    </tr>\n",
       "    <tr>\n",
       "      <th>75%</th>\n",
       "      <td>0.000160</td>\n",
       "      <td>0.002189</td>\n",
       "      <td>1.000000</td>\n",
       "    </tr>\n",
       "    <tr>\n",
       "      <th>max</th>\n",
       "      <td>1.000000</td>\n",
       "      <td>1.000000</td>\n",
       "      <td>1.000000</td>\n",
       "    </tr>\n",
       "  </tbody>\n",
       "</table>\n",
       "</div>"
      ],
      "text/plain": [
       "                goal       deltaDay     stateValue\n",
       "count  378661.000000  378661.000000  378661.000000\n",
       "mean        0.000491       0.002026       0.353762\n",
       "std         0.011834       0.003938       0.478137\n",
       "min         0.000000       0.000000       0.000000\n",
       "25%         0.000020       0.001738       0.000000\n",
       "50%         0.000052       0.001773       0.000000\n",
       "75%         0.000160       0.002189       1.000000\n",
       "max         1.000000       1.000000       1.000000"
      ]
     },
     "execution_count": 5,
     "metadata": {},
     "output_type": "execute_result"
    }
   ],
   "source": [
    "df_required.describe()"
   ]
  },
  {
   "cell_type": "code",
   "execution_count": 6,
   "metadata": {
    "scrolled": true
   },
   "outputs": [
    {
     "data": {
      "image/png": "[encoded data removed]",
      "text/plain": [
       "<Figure size 720x720 with 9 Axes>"
      ]
     },
     "metadata": {
      "needs_background": "light"
     },
     "output_type": "display_data"
    }
   ],
   "source": [
    "# 散布図行列を書いてみる\n",
    "pd.plotting.scatter_matrix(df_required, figsize=(10,10))\n",
    "plt.show()"
   ]
  },
  {
   "cell_type": "code",
   "execution_count": 7,
   "metadata": {},
   "outputs": [
    {
     "data": {
      "text/html": [
       "<div>\n",
       "<style scoped>\n",
       "    .dataframe tbody tr th:only-of-type {\n",
       "        vertical-align: middle;\n",
       "    }\n",
       "\n",
       "    .dataframe tbody tr th {\n",
       "        vertical-align: top;\n",
       "    }\n",
       "\n",
       "    .dataframe thead th {\n",
       "        text-align: right;\n",
       "    }\n",
       "</style>\n",
       "<table border=\"1\" class=\"dataframe\">\n",
       "  <thead>\n",
       "    <tr style=\"text-align: right;\">\n",
       "      <th></th>\n",
       "      <th>goal</th>\n",
       "      <th>deltaDay</th>\n",
       "      <th>stateValue</th>\n",
       "    </tr>\n",
       "  </thead>\n",
       "  <tbody>\n",
       "    <tr>\n",
       "      <th>goal</th>\n",
       "      <td>1.000000</td>\n",
       "      <td>0.004314</td>\n",
       "      <td>-0.024332</td>\n",
       "    </tr>\n",
       "    <tr>\n",
       "      <th>deltaDay</th>\n",
       "      <td>0.004314</td>\n",
       "      <td>1.000000</td>\n",
       "      <td>-0.026134</td>\n",
       "    </tr>\n",
       "    <tr>\n",
       "      <th>stateValue</th>\n",
       "      <td>-0.024332</td>\n",
       "      <td>-0.026134</td>\n",
       "      <td>1.000000</td>\n",
       "    </tr>\n",
       "  </tbody>\n",
       "</table>\n",
       "</div>"
      ],
      "text/plain": [
       "                goal  deltaDay  stateValue\n",
       "goal        1.000000  0.004314   -0.024332\n",
       "deltaDay    0.004314  1.000000   -0.026134\n",
       "stateValue -0.024332 -0.026134    1.000000"
      ]
     },
     "execution_count": 7,
     "metadata": {},
     "output_type": "execute_result"
    }
   ],
   "source": [
    "# 相関係数を確認\n",
    "df_required.corr()"
   ]
  },
  {
   "cell_type": "code",
   "execution_count": null,
   "metadata": {},
   "outputs": [],
   "source": []
  },
  {
   "cell_type": "code",
   "execution_count": null,
   "metadata": {},
   "outputs": [],
   "source": []
  },
  {
   "cell_type": "code",
   "execution_count": null,
   "metadata": {},
   "outputs": [],
   "source": []
  },
  {
   "cell_type": "code",
   "execution_count": null,
   "metadata": {},
   "outputs": [],
   "source": []
  }
 ],
 "metadata": {
  "kernelspec": {
   "display_name": "Python 3",
   "language": "python",
   "name": "python3"
  },
  "language_info": {
   "codemirror_mode": {
    "name": "ipython",
    "version": 3
   },
   "file_extension": ".py",
   "mimetype": "text/x-python",
   "name": "python",
   "nbconvert_exporter": "python",
   "pygments_lexer": "ipython3",
   "version": "3.7.3"
  }
 },
 "nbformat": 4,
 "nbformat_minor": 2
}
